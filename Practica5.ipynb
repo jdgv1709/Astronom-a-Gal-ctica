{
 "cells": [
  {
   "cell_type": "markdown",
   "metadata": {},
   "source": [
    "# Practica 5: Astronomia Galactica"
   ]
  },
  {
   "cell_type": "code",
   "execution_count": 2,
   "metadata": {},
   "outputs": [
    {
     "name": "stderr",
     "output_type": "stream",
     "text": [
      "c:\\Users\\juang\\anaconda3\\lib\\site-packages\\pandas\\core\\computation\\expressions.py:21: UserWarning: Pandas requires version '2.8.4' or newer of 'numexpr' (version '2.7.3' currently installed).\n",
      "  from pandas.core.computation.check import NUMEXPR_INSTALLED\n",
      "c:\\Users\\juang\\anaconda3\\lib\\site-packages\\pandas\\core\\arrays\\masked.py:60: UserWarning: Pandas requires version '1.3.6' or newer of 'bottleneck' (version '1.3.2' currently installed).\n",
      "  from pandas.core import (\n",
      "C:\\Users\\juang\\AppData\\Local\\Temp/ipykernel_11256/2080034654.py:2: DeprecationWarning: \n",
      "Pyarrow will become a required dependency of pandas in the next major release of pandas (pandas 3.0),\n",
      "(to allow more performant data types, such as the Arrow string type, and better interoperability with other libraries)\n",
      "but was not found to be installed on your system.\n",
      "If this would cause problems for you,\n",
      "please provide us feedback at https://github.com/pandas-dev/pandas/issues/54466\n",
      "        \n",
      "  import pandas as pd\n"
     ]
    }
   ],
   "source": [
    "import numpy as np\n",
    "import pandas as pd\n",
    "import matplotlib.pyplot as plt"
   ]
  },
  {
   "cell_type": "code",
   "execution_count": 3,
   "metadata": {},
   "outputs": [
    {
     "data": {
      "text/plain": [
       "(118218, 14)"
      ]
     },
     "execution_count": 3,
     "metadata": {},
     "output_type": "execute_result"
    }
   ],
   "source": [
    "df=pd.read_csv(r\"C:\\Users\\juang\\Documents\\Tareas JD\\Universidad\\Materias\\7 Semestre\\Astronomia Galactica\\result.csv\")\n",
    "df.shape"
   ]
  },
  {
   "cell_type": "code",
   "execution_count": 4,
   "metadata": {},
   "outputs": [
    {
     "data": {
      "text/plain": [
       "(117955, 14)"
      ]
     },
     "execution_count": 4,
     "metadata": {},
     "output_type": "execute_result"
    }
   ],
   "source": [
    "df = df.dropna(subset=['Plx'])\n",
    "df.shape"
   ]
  },
  {
   "cell_type": "code",
   "execution_count": 5,
   "metadata": {},
   "outputs": [
    {
     "data": {
      "text/html": [
       "<div>\n",
       "<style scoped>\n",
       "    .dataframe tbody tr th:only-of-type {\n",
       "        vertical-align: middle;\n",
       "    }\n",
       "\n",
       "    .dataframe tbody tr th {\n",
       "        vertical-align: top;\n",
       "    }\n",
       "\n",
       "    .dataframe thead th {\n",
       "        text-align: right;\n",
       "    }\n",
       "</style>\n",
       "<table border=\"1\" class=\"dataframe\">\n",
       "  <thead>\n",
       "    <tr style=\"text-align: right;\">\n",
       "      <th></th>\n",
       "      <th>HIP</th>\n",
       "      <th>RAhms</th>\n",
       "      <th>DEdms</th>\n",
       "      <th>Vmag</th>\n",
       "      <th>RAICRS</th>\n",
       "      <th>DEICRS</th>\n",
       "      <th>Plx</th>\n",
       "      <th>pmRA</th>\n",
       "      <th>pmDE</th>\n",
       "      <th>e_Plx</th>\n",
       "      <th>B-V</th>\n",
       "      <th>Notes</th>\n",
       "      <th>_RA_icrs</th>\n",
       "      <th>_DE_icrs</th>\n",
       "    </tr>\n",
       "  </thead>\n",
       "  <tbody>\n",
       "    <tr>\n",
       "      <th>70826</th>\n",
       "      <td>70890</td>\n",
       "      <td>14 29 47.75</td>\n",
       "      <td>-62 40 52.9</td>\n",
       "      <td>11.01</td>\n",
       "      <td>217.448948</td>\n",
       "      <td>-62.681352</td>\n",
       "      <td>772.33</td>\n",
       "      <td>-3775.64</td>\n",
       "      <td>768.16</td>\n",
       "      <td>2.42</td>\n",
       "      <td>1.807</td>\n",
       "      <td></td>\n",
       "      <td>217.428953</td>\n",
       "      <td>-62.679484</td>\n",
       "    </tr>\n",
       "    <tr>\n",
       "      <th>71615</th>\n",
       "      <td>71681</td>\n",
       "      <td>14 39 39.39</td>\n",
       "      <td>-60 50 22.1</td>\n",
       "      <td>1.35</td>\n",
       "      <td>219.914128</td>\n",
       "      <td>-60.839471</td>\n",
       "      <td>742.12</td>\n",
       "      <td>-3600.35</td>\n",
       "      <td>952.11</td>\n",
       "      <td>1.40</td>\n",
       "      <td>0.900</td>\n",
       "      <td>D</td>\n",
       "      <td>219.896170</td>\n",
       "      <td>-60.837156</td>\n",
       "    </tr>\n",
       "    <tr>\n",
       "      <th>71618</th>\n",
       "      <td>71683</td>\n",
       "      <td>14 39 40.90</td>\n",
       "      <td>-60 50 06.5</td>\n",
       "      <td>-0.01</td>\n",
       "      <td>219.920410</td>\n",
       "      <td>-60.835147</td>\n",
       "      <td>742.12</td>\n",
       "      <td>-3678.19</td>\n",
       "      <td>481.84</td>\n",
       "      <td>1.40</td>\n",
       "      <td>0.710</td>\n",
       "      <td>D</td>\n",
       "      <td>219.902066</td>\n",
       "      <td>-60.833975</td>\n",
       "    </tr>\n",
       "    <tr>\n",
       "      <th>87859</th>\n",
       "      <td>87937</td>\n",
       "      <td>17 57 48.97</td>\n",
       "      <td>+04 40 05.8</td>\n",
       "      <td>9.54</td>\n",
       "      <td>269.454023</td>\n",
       "      <td>4.668288</td>\n",
       "      <td>549.01</td>\n",
       "      <td>-797.84</td>\n",
       "      <td>10326.93</td>\n",
       "      <td>1.58</td>\n",
       "      <td>1.570</td>\n",
       "      <td></td>\n",
       "      <td>269.452077</td>\n",
       "      <td>4.693388</td>\n",
       "    </tr>\n",
       "    <tr>\n",
       "      <th>53993</th>\n",
       "      <td>54035</td>\n",
       "      <td>11 03 20.61</td>\n",
       "      <td>+35 58 53.3</td>\n",
       "      <td>7.49</td>\n",
       "      <td>165.835884</td>\n",
       "      <td>35.981464</td>\n",
       "      <td>392.40</td>\n",
       "      <td>-580.20</td>\n",
       "      <td>-4767.09</td>\n",
       "      <td>0.91</td>\n",
       "      <td>1.502</td>\n",
       "      <td></td>\n",
       "      <td>165.834142</td>\n",
       "      <td>35.969878</td>\n",
       "    </tr>\n",
       "  </tbody>\n",
       "</table>\n",
       "</div>"
      ],
      "text/plain": [
       "         HIP        RAhms        DEdms   Vmag      RAICRS     DEICRS     Plx  \\\n",
       "70826  70890  14 29 47.75  -62 40 52.9  11.01  217.448948 -62.681352  772.33   \n",
       "71615  71681  14 39 39.39  -60 50 22.1   1.35  219.914128 -60.839471  742.12   \n",
       "71618  71683  14 39 40.90  -60 50 06.5  -0.01  219.920410 -60.835147  742.12   \n",
       "87859  87937  17 57 48.97  +04 40 05.8   9.54  269.454023   4.668288  549.01   \n",
       "53993  54035  11 03 20.61  +35 58 53.3   7.49  165.835884  35.981464  392.40   \n",
       "\n",
       "          pmRA      pmDE  e_Plx    B-V Notes    _RA_icrs   _DE_icrs  \n",
       "70826 -3775.64    768.16   2.42  1.807        217.428953 -62.679484  \n",
       "71615 -3600.35    952.11   1.40  0.900     D  219.896170 -60.837156  \n",
       "71618 -3678.19    481.84   1.40  0.710     D  219.902066 -60.833975  \n",
       "87859  -797.84  10326.93   1.58  1.570        269.452077   4.693388  \n",
       "53993  -580.20  -4767.09   0.91  1.502        165.834142  35.969878  "
      ]
     },
     "execution_count": 5,
     "metadata": {},
     "output_type": "execute_result"
    }
   ],
   "source": [
    "df = df.sort_values(by='Plx', ascending=False)\n",
    "# Print or use the sorted DataFrame as needed\n",
    "df=df.head(50)\n",
    "df.shape\n",
    "df.head()"
   ]
  },
  {
   "cell_type": "code",
   "execution_count": 6,
   "metadata": {},
   "outputs": [
    {
     "data": {
      "image/png": "[encoded data removed]",
      "text/plain": [
       "<Figure size 432x288 with 1 Axes>"
      ]
     },
     "metadata": {
      "needs_background": "light"
     },
     "output_type": "display_data"
    }
   ],
   "source": [
    "result_list = [1000 / i for i in df['Plx']]\n",
    "\n",
    "plt.hist(result_list, bins=14, linewidth=0.5, edgecolor=\"white\")\n",
    "#plt.grid(True)\n",
    "plt.xlabel(\"Distancia (Pc)\")\n",
    "plt.ylabel(\"Cantidad de Estrellas\")\n",
    "plt.title(\"50 Estrellas más cercanas a la Tierra\")\n",
    "plt.show()"
   ]
  },
  {
   "cell_type": "code",
   "execution_count": 7,
   "metadata": {},
   "outputs": [],
   "source": [
    "from scipy.optimize import curve_fit"
   ]
  },
  {
   "cell_type": "code",
   "execution_count": 8,
   "metadata": {},
   "outputs": [
    {
     "data": {
      "image/png": "[encoded data removed]",
      "text/plain": [
       "<Figure size 432x288 with 1 Axes>"
      ]
     },
     "metadata": {
      "needs_background": "light"
     },
     "output_type": "display_data"
    }
   ],
   "source": [
    "mag= df['Vmag']\n",
    "plt.hist(mag, bins=14, linewidth=0.5, edgecolor=\"white\", color=\"skyblue\")\n",
    "counts, bin_edges = np.histogram(df['Vmag'], bins=14)\n",
    "x=np.linspace(-1,12,14)\n",
    "def exponential_func(x, a, b,c):\n",
    "    return (a * np.exp(b * x))+c\n",
    "params, covariance = curve_fit(exponential_func, x, counts)\n",
    "fit_values= exponential_func(x, *params)\n",
    "plt.plot(x, fit_values, linestyle='--', color='r', label=f'Exponential Fit: {params[0]:.2f} * exp({params[1]:.2f} * x)  + {params[2]:.2f}')\n",
    "plt.legend()\n",
    "residuals = counts - fit_values\n",
    "ss_residual = np.sum(residuals**2)\n",
    "ss_total = np.sum((counts - np.mean(counts))**2)\n",
    "r2 = 1 - (ss_residual / ss_total)\n",
    "plt.xlabel(\"Magnitud\")\n",
    "plt.ylabel(\"Cantidad de estrellas\")\n",
    "plt.title('Cantidad de Estrellas Vs Magnitud Visual\\nR2: {:.4f}'.format(r2))\n",
    "plt.show()\n"
   ]
  },
  {
   "cell_type": "code",
   "execution_count": 9,
   "metadata": {},
   "outputs": [
    {
     "data": {
      "text/plain": [
       "12"
      ]
     },
     "execution_count": 9,
     "metadata": {},
     "output_type": "execute_result"
    }
   ],
   "source": [
    "sum(counts[:8]) #Hasta magnitud 6"
   ]
  },
  {
   "cell_type": "code",
   "execution_count": 10,
   "metadata": {},
   "outputs": [],
   "source": [
    "from matplotlib import cm"
   ]
  },
  {
   "cell_type": "code",
   "execution_count": 11,
   "metadata": {},
   "outputs": [
    {
     "data": {
      "text/plain": [
       "Text(0.5, 1.0, 'Indice de Color Vs Estrellas')"
      ]
     },
     "execution_count": 11,
     "metadata": {},
     "output_type": "execute_result"
    },
    {
     "data": {
      "image/png": "[encoded data removed]",
      "text/plain": [
       "<Figure size 432x288 with 1 Axes>"
      ]
     },
     "metadata": {
      "needs_background": "light"
     },
     "output_type": "display_data"
    }
   ],
   "source": [
    "color= df['B-V']\n",
    "plt.hist(color, bins=10, linewidth=0.5, edgecolor=\"white\")\n",
    "plt.xlabel(\"Color B-V\")\n",
    "plt.ylabel(\"Cantidad de Estrellas\")\n",
    "plt.title(\"Indice de Color Vs Estrellas\")"
   ]
  },
  {
   "cell_type": "code",
   "execution_count": 12,
   "metadata": {},
   "outputs": [
    {
     "data": {
      "text/plain": [
       "<matplotlib.collections.PathCollection at 0x1f761d71910>"
      ]
     },
     "execution_count": 12,
     "metadata": {},
     "output_type": "execute_result"
    },
    {
     "data": {
      "image/png": "[encoded data removed]",
      "text/plain": [
       "<Figure size 432x288 with 1 Axes>"
      ]
     },
     "metadata": {
      "needs_background": "light"
     },
     "output_type": "display_data"
    }
   ],
   "source": [
    "ind= np.linspace(0,50,50)\n",
    "plt.scatter(ind, result_list)"
   ]
  },
  {
   "cell_type": "code",
   "execution_count": 13,
   "metadata": {},
   "outputs": [
    {
     "name": "stdout",
     "output_type": "stream",
     "text": [
      "       HIP        RAhms        DEdms   Vmag      RAICRS     DEICRS     Plx  \\\n",
      "0    71681  14 39 39.39  -60 50 22.1   1.35  219.914128 -60.839471  742.12   \n",
      "1    71683  14 39 40.90  -60 50 06.5  -0.01   219.92041 -60.835147  742.12   \n",
      "2    91768  18 42 48.22  +59 37 33.7   8.94  280.700906  59.626016  280.28   \n",
      "3     1475  00 18 20.54  +44 01 19.0   8.09    4.585591  44.021956  280.27   \n",
      "4    86162  17 36 26.41  +68 20 32.0   9.15  264.110027  68.342227  220.85   \n",
      "5    85523  17 28 39.46  -46 53 35.0   9.38  262.164404 -46.893052  220.43   \n",
      "6   114110  23 06 38.89  -14 52 20.6  12.24  346.662032 -14.872397  216.52   \n",
      "7    57367  11 45 39.26  -64 50 26.4   11.5  176.413598 -64.840674   216.4   \n",
      "8    82725  16 54 32.15  -62 24 13.5  11.72  253.633948 -62.403741  203.01   \n",
      "9    85605  17 29 36.19  +24 39 11.6  11.39  262.400787  24.653221  202.69   \n",
      "10   85605  17 29 36.19  +24 39 11.6  11.39  262.400787  24.653221  202.69   \n",
      "11  106440  21 33 34.02  -49 00 25.3   8.66  323.391734 -49.007018  202.53   \n",
      "12   86214  17 37 04.24  -44 19 01.0  10.94  264.267668 -44.316935  198.32   \n",
      "13   19849  04 15 17.64  -07 38 40.4   4.43   63.823492  -7.644558  198.24   \n",
      "14   19849  04 15 17.64  -07 38 40.4   4.43   63.823492  -7.644558  198.24   \n",
      "15  112460  22 46 50.31  +44 20 06.4  10.29  341.709612  44.335108  198.07   \n",
      "\n",
      "       pmRA     pmDE  e_Plx    B-V Notes    _RA_icrs   _DE_icrs  \n",
      "0  -3600.35   952.11    1.4    0.9     D   219.89617 -60.837156  \n",
      "1  -3678.19   481.84    1.4   0.71     D  219.902066 -60.833975  \n",
      "2  -1326.88  1802.12   2.57  1.504        280.694527  59.630396  \n",
      "3   2888.92   410.58   1.05   1.56          4.595356  44.022953  \n",
      "4   -320.47 -1269.55   0.92  1.505        264.107916  68.339141  \n",
      "5    573.32  -879.84   1.63  1.553        262.166443  -46.89519  \n",
      "6    112.27    83.24  18.28    NaN     G  346.662315 -14.872194  \n",
      "7   2665.17  -346.83   2.11  0.196        176.428835 -64.841516  \n",
      "8    254.79   173.56  29.27    NaN     D  253.635285  -62.40332  \n",
      "9     97.33   348.92  39.48  1.101     D  262.401047   24.65407  \n",
      "10    97.33   348.92  39.48  1.101     D  262.401047   24.65407  \n",
      "11   -46.18  -818.01   1.33  1.521        323.391563 -49.009006  \n",
      "12  -710.11  -937.99   2.43  1.655        264.265256 -44.319215  \n",
      "13 -2239.33 -3419.86   0.84   0.82         63.818001  -7.652871  \n",
      "14 -2239.33 -3419.86   0.84   0.82         63.818001  -7.652871  \n",
      "15  -704.66  -459.39   2.05   1.54        341.707218  44.333991  \n"
     ]
    }
   ],
   "source": [
    "new_df = []\n",
    "for i in range(len(df) - 1):\n",
    "    current_row = df.iloc[i]\n",
    "    next_row = df.iloc[i + 1]\n",
    "    # Check if the difference in \"Plx\" is less than 0.1\n",
    "    if abs(current_row['Plx'] - next_row['Plx']) < 0.5:\n",
    "        # Append both rows to the list\n",
    "        new_df.extend([current_row, next_row])\n",
    "\n",
    "# Create the final DataFrame by concatenating the list of DataFrames\n",
    "df_binarias = pd.concat(new_df, axis=1).T.reset_index(drop=True)\n",
    "print(df_binarias)"
   ]
  },
  {
   "cell_type": "code",
   "execution_count": 22,
   "metadata": {},
   "outputs": [
    {
     "data": {
      "text/html": [
       "<div>\n",
       "<style scoped>\n",
       "    .dataframe tbody tr th:only-of-type {\n",
       "        vertical-align: middle;\n",
       "    }\n",
       "\n",
       "    .dataframe tbody tr th {\n",
       "        vertical-align: top;\n",
       "    }\n",
       "\n",
       "    .dataframe thead th {\n",
       "        text-align: right;\n",
       "    }\n",
       "</style>\n",
       "<table border=\"1\" class=\"dataframe\">\n",
       "  <thead>\n",
       "    <tr style=\"text-align: right;\">\n",
       "      <th></th>\n",
       "      <th>HIP</th>\n",
       "      <th>RAhms</th>\n",
       "      <th>DEdms</th>\n",
       "      <th>Vmag</th>\n",
       "      <th>RAICRS</th>\n",
       "      <th>DEICRS</th>\n",
       "      <th>Plx</th>\n",
       "      <th>pmRA</th>\n",
       "      <th>pmDE</th>\n",
       "      <th>e_Plx</th>\n",
       "      <th>B-V</th>\n",
       "      <th>Notes</th>\n",
       "      <th>_RA_icrs</th>\n",
       "      <th>_DE_icrs</th>\n",
       "    </tr>\n",
       "  </thead>\n",
       "  <tbody>\n",
       "    <tr>\n",
       "      <th>0</th>\n",
       "      <td>71681</td>\n",
       "      <td>14 39 39.39</td>\n",
       "      <td>-60 50 22.1</td>\n",
       "      <td>1.35</td>\n",
       "      <td>219.914128</td>\n",
       "      <td>-60.839471</td>\n",
       "      <td>742.12</td>\n",
       "      <td>-3600.35</td>\n",
       "      <td>952.11</td>\n",
       "      <td>1.4</td>\n",
       "      <td>0.9</td>\n",
       "      <td>D</td>\n",
       "      <td>219.89617</td>\n",
       "      <td>-60.837156</td>\n",
       "    </tr>\n",
       "    <tr>\n",
       "      <th>1</th>\n",
       "      <td>71683</td>\n",
       "      <td>14 39 40.90</td>\n",
       "      <td>-60 50 06.5</td>\n",
       "      <td>-0.01</td>\n",
       "      <td>219.92041</td>\n",
       "      <td>-60.835147</td>\n",
       "      <td>742.12</td>\n",
       "      <td>-3678.19</td>\n",
       "      <td>481.84</td>\n",
       "      <td>1.4</td>\n",
       "      <td>0.71</td>\n",
       "      <td>D</td>\n",
       "      <td>219.902066</td>\n",
       "      <td>-60.833975</td>\n",
       "    </tr>\n",
       "    <tr>\n",
       "      <th>4</th>\n",
       "      <td>86162</td>\n",
       "      <td>17 36 26.41</td>\n",
       "      <td>+68 20 32.0</td>\n",
       "      <td>9.15</td>\n",
       "      <td>264.110027</td>\n",
       "      <td>68.342227</td>\n",
       "      <td>220.85</td>\n",
       "      <td>-320.47</td>\n",
       "      <td>-1269.55</td>\n",
       "      <td>0.92</td>\n",
       "      <td>1.505</td>\n",
       "      <td></td>\n",
       "      <td>264.107916</td>\n",
       "      <td>68.339141</td>\n",
       "    </tr>\n",
       "    <tr>\n",
       "      <th>5</th>\n",
       "      <td>85523</td>\n",
       "      <td>17 28 39.46</td>\n",
       "      <td>-46 53 35.0</td>\n",
       "      <td>9.38</td>\n",
       "      <td>262.164404</td>\n",
       "      <td>-46.893052</td>\n",
       "      <td>220.43</td>\n",
       "      <td>573.32</td>\n",
       "      <td>-879.84</td>\n",
       "      <td>1.63</td>\n",
       "      <td>1.553</td>\n",
       "      <td></td>\n",
       "      <td>262.166443</td>\n",
       "      <td>-46.89519</td>\n",
       "    </tr>\n",
       "    <tr>\n",
       "      <th>8</th>\n",
       "      <td>82725</td>\n",
       "      <td>16 54 32.15</td>\n",
       "      <td>-62 24 13.5</td>\n",
       "      <td>11.72</td>\n",
       "      <td>253.633948</td>\n",
       "      <td>-62.403741</td>\n",
       "      <td>203.01</td>\n",
       "      <td>254.79</td>\n",
       "      <td>173.56</td>\n",
       "      <td>29.27</td>\n",
       "      <td>NaN</td>\n",
       "      <td>D</td>\n",
       "      <td>253.635285</td>\n",
       "      <td>-62.40332</td>\n",
       "    </tr>\n",
       "    <tr>\n",
       "      <th>9</th>\n",
       "      <td>85605</td>\n",
       "      <td>17 29 36.19</td>\n",
       "      <td>+24 39 11.6</td>\n",
       "      <td>11.39</td>\n",
       "      <td>262.400787</td>\n",
       "      <td>24.653221</td>\n",
       "      <td>202.69</td>\n",
       "      <td>97.33</td>\n",
       "      <td>348.92</td>\n",
       "      <td>39.48</td>\n",
       "      <td>1.101</td>\n",
       "      <td>D</td>\n",
       "      <td>262.401047</td>\n",
       "      <td>24.65407</td>\n",
       "    </tr>\n",
       "  </tbody>\n",
       "</table>\n",
       "</div>"
      ],
      "text/plain": [
       "     HIP        RAhms        DEdms   Vmag      RAICRS     DEICRS     Plx  \\\n",
       "0  71681  14 39 39.39  -60 50 22.1   1.35  219.914128 -60.839471  742.12   \n",
       "1  71683  14 39 40.90  -60 50 06.5  -0.01   219.92041 -60.835147  742.12   \n",
       "4  86162  17 36 26.41  +68 20 32.0   9.15  264.110027  68.342227  220.85   \n",
       "5  85523  17 28 39.46  -46 53 35.0   9.38  262.164404 -46.893052  220.43   \n",
       "8  82725  16 54 32.15  -62 24 13.5  11.72  253.633948 -62.403741  203.01   \n",
       "9  85605  17 29 36.19  +24 39 11.6  11.39  262.400787  24.653221  202.69   \n",
       "\n",
       "      pmRA     pmDE  e_Plx    B-V Notes    _RA_icrs   _DE_icrs  \n",
       "0 -3600.35   952.11    1.4    0.9     D   219.89617 -60.837156  \n",
       "1 -3678.19   481.84    1.4   0.71     D  219.902066 -60.833975  \n",
       "4  -320.47 -1269.55   0.92  1.505        264.107916  68.339141  \n",
       "5   573.32  -879.84   1.63  1.553        262.166443  -46.89519  \n",
       "8   254.79   173.56  29.27    NaN     D  253.635285  -62.40332  \n",
       "9    97.33   348.92  39.48  1.101     D  262.401047   24.65407  "
      ]
     },
     "execution_count": 22,
     "metadata": {},
     "output_type": "execute_result"
    }
   ],
   "source": [
    "eli=[2,3,6,7,10,11,12,13,14,15]\n",
    "df_filtered = df_binarias.drop(eli)\n",
    "df_filtered"
   ]
  }
 ],
 "metadata": {
  "kernelspec": {
   "display_name": "base",
   "language": "python",
   "name": "python3"
  },
  "language_info": {
   "codemirror_mode": {
    "name": "ipython",
    "version": 3
   },
   "file_extension": ".py",
   "mimetype": "text/x-python",
   "name": "python",
   "nbconvert_exporter": "python",
   "pygments_lexer": "ipython3",
   "version": "3.9.7"
  }
 },
 "nbformat": 4,
 "nbformat_minor": 2
}
