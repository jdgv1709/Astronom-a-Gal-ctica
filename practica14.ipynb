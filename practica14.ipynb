{
 "cells": [
  {
   "cell_type": "markdown",
   "metadata": {},
   "source": [
    "# Practia 14: Astronomia Galactica\n",
    "## Juan David Galan Vargas - 202111470"
   ]
  },
  {
   "cell_type": "code",
   "execution_count": 97,
   "metadata": {},
   "outputs": [],
   "source": [
    "import numpy as np\n",
    "import pandas as pd\n",
    "import matplotlib.pyplot as plt"
   ]
  },
  {
   "cell_type": "code",
   "execution_count": 98,
   "metadata": {},
   "outputs": [
    {
     "data": {
      "text/plain": [
       "(973, 4)"
      ]
     },
     "execution_count": 98,
     "metadata": {},
     "output_type": "execute_result"
    }
   ],
   "source": [
    "df=pd.read_csv(r\"C:\\Users\\juang\\Documents\\Tareas JD\\Universidad\\Materias\\7 Semestre\\Astronomia Galactica\\practica 14\\result.csv\")\n",
    "df.shape"
   ]
  },
  {
   "cell_type": "code",
   "execution_count": 99,
   "metadata": {},
   "outputs": [
    {
     "data": {
      "text/plain": [
       "(920, 4)"
      ]
     },
     "execution_count": 99,
     "metadata": {},
     "output_type": "execute_result"
    }
   ],
   "source": [
    "df.dropna(inplace=True)\n",
    "df.shape"
   ]
  },
  {
   "cell_type": "code",
   "execution_count": 100,
   "metadata": {},
   "outputs": [
    {
     "data": {
      "text/html": [
       "<div>\n",
       "<style scoped>\n",
       "    .dataframe tbody tr th:only-of-type {\n",
       "        vertical-align: middle;\n",
       "    }\n",
       "\n",
       "    .dataframe tbody tr th {\n",
       "        vertical-align: top;\n",
       "    }\n",
       "\n",
       "    .dataframe thead th {\n",
       "        text-align: right;\n",
       "    }\n",
       "</style>\n",
       "<table border=\"1\" class=\"dataframe\">\n",
       "  <thead>\n",
       "    <tr style=\"text-align: right;\">\n",
       "      <th></th>\n",
       "      <th>GVhel</th>\n",
       "      <th>mag</th>\n",
       "      <th>l_mag</th>\n",
       "      <th>Type</th>\n",
       "      <th>distance</th>\n",
       "    </tr>\n",
       "  </thead>\n",
       "  <tbody>\n",
       "    <tr>\n",
       "      <th>0</th>\n",
       "      <td>32078.0</td>\n",
       "      <td>20.5</td>\n",
       "      <td>&gt;</td>\n",
       "      <td>Ia</td>\n",
       "      <td>1000.000000</td>\n",
       "    </tr>\n",
       "    <tr>\n",
       "      <th>1</th>\n",
       "      <td>8590.0</td>\n",
       "      <td>18.7</td>\n",
       "      <td>&gt;</td>\n",
       "      <td>Ia</td>\n",
       "      <td>436.515832</td>\n",
       "    </tr>\n",
       "    <tr>\n",
       "      <th>2</th>\n",
       "      <td>4172.0</td>\n",
       "      <td>17.7</td>\n",
       "      <td>&gt;</td>\n",
       "      <td>Ia</td>\n",
       "      <td>275.422870</td>\n",
       "    </tr>\n",
       "    <tr>\n",
       "      <th>3</th>\n",
       "      <td>6811.0</td>\n",
       "      <td>16.2</td>\n",
       "      <td>=</td>\n",
       "      <td>Ia</td>\n",
       "      <td>138.038426</td>\n",
       "    </tr>\n",
       "    <tr>\n",
       "      <th>4</th>\n",
       "      <td>23983.0</td>\n",
       "      <td>19.6</td>\n",
       "      <td>&gt;</td>\n",
       "      <td>Ia</td>\n",
       "      <td>660.693448</td>\n",
       "    </tr>\n",
       "  </tbody>\n",
       "</table>\n",
       "</div>"
      ],
      "text/plain": [
       "     GVhel   mag l_mag Type     distance\n",
       "0  32078.0  20.5     >   Ia  1000.000000\n",
       "1   8590.0  18.7     >   Ia   436.515832\n",
       "2   4172.0  17.7     >   Ia   275.422870\n",
       "3   6811.0  16.2     =   Ia   138.038426\n",
       "4  23983.0  19.6     >   Ia   660.693448"
      ]
     },
     "execution_count": 100,
     "metadata": {},
     "output_type": "execute_result"
    }
   ],
   "source": [
    "for index, row in df.iterrows():\n",
    "        # Access the value of the first column and add 5\n",
    "        new_value = 10**((row.iloc[1] -(-19.5) + 5)/5)\n",
    "        new_value=new_value*10**(-6)\n",
    "        # Add the new value to a new column\n",
    "        df.at[index, 'distance'] = new_value\n",
    "df.head()"
   ]
  },
  {
   "cell_type": "code",
   "execution_count": 101,
   "metadata": {},
   "outputs": [],
   "source": [
    "mayores = df[df.iloc[:, 2] == \">\"]\n",
    "iguales = df[df.iloc[:, 2] == \"=\"]"
   ]
  },
  {
   "cell_type": "code",
   "execution_count": 102,
   "metadata": {},
   "outputs": [],
   "source": [
    "from scipy.stats import linregress"
   ]
  },
  {
   "cell_type": "code",
   "execution_count": 106,
   "metadata": {},
   "outputs": [
    {
     "data": {
      "text/plain": [
       "Text(0, 0.5, 'Velocidad Heliocentrica [Km/s]')"
      ]
     },
     "execution_count": 106,
     "metadata": {},
     "output_type": "execute_result"
    },
    {
     "data": {
      "image/png": "[encoded data removed]",
      "text/plain": [
       "<Figure size 432x288 with 1 Axes>"
      ]
     },
     "metadata": {
      "needs_background": "light"
     },
     "output_type": "display_data"
    }
   ],
   "source": [
    "plt.scatter(mayores[\"distance\"],mayores[\"GVhel\"],label=\"mag >\",marker=\".\")\n",
    "slope, intercept, r_value, p_value, std_err = linregress(mayores[\"distance\"],mayores[\"GVhel\"])\n",
    "plt.plot(df[\"distance\"],df[\"distance\"]*slope,label=slope,linestyle='-')\n",
    "plt.scatter(iguales[\"distance\"],iguales[\"GVhel\"],label=\"mag =\",marker=\"o\")\n",
    "slope, intercept, r_value, p_value, std_err = linregress(iguales[\"distance\"],iguales[\"GVhel\"])\n",
    "plt.plot(df[\"distance\"],df[\"distance\"]*slope,label=slope, linestyle='-.')\n",
    "\n",
    "slope, intercept, r_value, p_value, std_err = linregress(df[\"distance\"],df[\"GVhel\"])\n",
    "plt.plot(df[\"distance\"],df[\"distance\"]*slope,label=slope,c=\"r\",linestyle=':')\n",
    "plt.legend(fontsize=\"small\")\n",
    "plt.grid(True)\n",
    "plt.xlabel(\"Distancia [MPc]\")\n",
    "plt.ylabel(\"Velocidad Heliocentrica [Km/s]\")"
   ]
  },
  {
   "cell_type": "code",
   "execution_count": 104,
   "metadata": {},
   "outputs": [
    {
     "data": {
      "text/plain": [
       "23988329.190194897"
      ]
     },
     "execution_count": 104,
     "metadata": {},
     "output_type": "execute_result"
    }
   ],
   "source": [
    "10**(36.9/5)"
   ]
  }
 ],
 "metadata": {
  "kernelspec": {
   "display_name": "base",
   "language": "python",
   "name": "python3"
  },
  "language_info": {
   "codemirror_mode": {
    "name": "ipython",
    "version": 3
   },
   "file_extension": ".py",
   "mimetype": "text/x-python",
   "name": "python",
   "nbconvert_exporter": "python",
   "pygments_lexer": "ipython3",
   "version": "3.9.7"
  }
 },
 "nbformat": 4,
 "nbformat_minor": 2
}
