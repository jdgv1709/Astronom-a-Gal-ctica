{
 "cells": [
  {
   "cell_type": "markdown",
   "metadata": {},
   "source": [
    "# Practica 9: Astronomia Galactica\n",
    "# Juan David GalaN Vargas 202111470"
   ]
  },
  {
   "cell_type": "code",
   "execution_count": 360,
   "metadata": {},
   "outputs": [],
   "source": [
    "import numpy as np\n",
    "import pandas as pd\n",
    "import matplotlib.pyplot as plt"
   ]
  },
  {
   "cell_type": "code",
   "execution_count": 361,
   "metadata": {},
   "outputs": [
    {
     "data": {
      "text/plain": [
       "(118218, 14)"
      ]
     },
     "execution_count": 361,
     "metadata": {},
     "output_type": "execute_result"
    }
   ],
   "source": [
    "df=pd.read_csv(r\"C:\\Users\\juang\\Documents\\Tareas JD\\Universidad\\Materias\\7 Semestre\\Astronomia Galactica\\Practica 9\\result.csv\")\n",
    "df.shape"
   ]
  },
  {
   "cell_type": "code",
   "execution_count": 362,
   "metadata": {},
   "outputs": [
    {
     "data": {
      "text/plain": [
       "(118218, 14)"
      ]
     },
     "execution_count": 362,
     "metadata": {},
     "output_type": "execute_result"
    }
   ],
   "source": [
    "df.shape"
   ]
  },
  {
   "cell_type": "code",
   "execution_count": 363,
   "metadata": {},
   "outputs": [
    {
     "data": {
      "image/png": "[encoded data removed]",
      "text/plain": [
       "<Figure size 432x288 with 1 Axes>"
      ]
     },
     "metadata": {
      "needs_background": "light"
     },
     "output_type": "display_data"
    }
   ],
   "source": [
    "df = df.dropna(subset=['Plx'])\n",
    "df = df.sort_values(by='Plx', ascending=False)\n",
    "df=df.head(3000)\n",
    "result_list = [1000 / i for i in df['Plx']]\n",
    "color= df['B-V']\n",
    "mag= df['Vmag']\n",
    "mag=list(mag)\n",
    "def M_abs(D, m):\n",
    "    result=[]\n",
    "    for i in range(3000):\n",
    "        a= m[i] + 5* np.log10(10/D[i])\n",
    "        result.append(a)\n",
    "    return result\n",
    "mabs= M_abs(result_list, mag)\n",
    "colores= list(color)\n",
    "plt.scatter(color,mabs,marker=\".\")\n",
    "plt.gca().invert_yaxis()\n",
    "plt.grid(True)\n",
    "plt.title(\"Diagrama de Hertzsprung-Russell\")\n",
    "plt.xlabel(\"Indice de Color B-V\")\n",
    "plt.ylabel(\"Magnitud Absoluta Visual\")\n",
    "plt.show()"
   ]
  },
  {
   "cell_type": "markdown",
   "metadata": {},
   "source": [
    "Cumulos a utilizar: 15 (NGC 2264), 24(NGC 2632 (\"El Pesebre\"), 35(NGC 6633))"
   ]
  },
  {
   "cell_type": "code",
   "execution_count": 364,
   "metadata": {},
   "outputs": [
    {
     "data": {
      "text/plain": [
       "(334, 3)"
      ]
     },
     "execution_count": 364,
     "metadata": {},
     "output_type": "execute_result"
    }
   ],
   "source": [
    "c3=pd.read_csv(r\"C:\\Users\\juang\\Documents\\Tareas JD\\Universidad\\Materias\\7 Semestre\\Astronomia Galactica\\Practica 9\\C15.csv\")\n",
    "c3.shape"
   ]
  },
  {
   "cell_type": "code",
   "execution_count": 365,
   "metadata": {},
   "outputs": [
    {
     "data": {
      "text/plain": [
       "(104, 3)"
      ]
     },
     "execution_count": 365,
     "metadata": {},
     "output_type": "execute_result"
    }
   ],
   "source": [
    "c24=pd.read_csv(r\"C:\\Users\\juang\\Documents\\Tareas JD\\Universidad\\Materias\\7 Semestre\\Astronomia Galactica\\Practica 9\\C24.csv\")\n",
    "c24.shape"
   ]
  },
  {
   "cell_type": "code",
   "execution_count": 366,
   "metadata": {},
   "outputs": [
    {
     "data": {
      "text/plain": [
       "(119, 3)"
      ]
     },
     "execution_count": 366,
     "metadata": {},
     "output_type": "execute_result"
    }
   ],
   "source": [
    "c35=pd.read_csv(r\"C:\\Users\\juang\\Documents\\Tareas JD\\Universidad\\Materias\\7 Semestre\\Astronomia Galactica\\Practica 9\\C35.csv\")\n",
    "c35.shape"
   ]
  },
  {
   "cell_type": "code",
   "execution_count": 367,
   "metadata": {},
   "outputs": [],
   "source": [
    "cumulos=[c3,c24,c35]"
   ]
  },
  {
   "cell_type": "code",
   "execution_count": 368,
   "metadata": {},
   "outputs": [
    {
     "data": {
      "text/html": [
       "<div>\n",
       "<style scoped>\n",
       "    .dataframe tbody tr th:only-of-type {\n",
       "        vertical-align: middle;\n",
       "    }\n",
       "\n",
       "    .dataframe tbody tr th {\n",
       "        vertical-align: top;\n",
       "    }\n",
       "\n",
       "    .dataframe thead th {\n",
       "        text-align: right;\n",
       "    }\n",
       "</style>\n",
       "<table border=\"1\" class=\"dataframe\">\n",
       "  <thead>\n",
       "    <tr style=\"text-align: right;\">\n",
       "      <th></th>\n",
       "      <th>B-V</th>\n",
       "      <th>Vmag</th>\n",
       "      <th>Cl</th>\n",
       "    </tr>\n",
       "  </thead>\n",
       "  <tbody>\n",
       "    <tr>\n",
       "      <th>0</th>\n",
       "      <td>-0.14</td>\n",
       "      <td>7.47</td>\n",
       "      <td>15</td>\n",
       "    </tr>\n",
       "    <tr>\n",
       "      <th>1</th>\n",
       "      <td>-0.14</td>\n",
       "      <td>7.47</td>\n",
       "      <td>15</td>\n",
       "    </tr>\n",
       "    <tr>\n",
       "      <th>2</th>\n",
       "      <td>-0.14</td>\n",
       "      <td>7.93</td>\n",
       "      <td>15</td>\n",
       "    </tr>\n",
       "    <tr>\n",
       "      <th>3</th>\n",
       "      <td>-0.14</td>\n",
       "      <td>7.93</td>\n",
       "      <td>15</td>\n",
       "    </tr>\n",
       "    <tr>\n",
       "      <th>4</th>\n",
       "      <td>-0.12</td>\n",
       "      <td>8.11</td>\n",
       "      <td>15</td>\n",
       "    </tr>\n",
       "    <tr>\n",
       "      <th>...</th>\n",
       "      <td>...</td>\n",
       "      <td>...</td>\n",
       "      <td>...</td>\n",
       "    </tr>\n",
       "    <tr>\n",
       "      <th>329</th>\n",
       "      <td>1.08</td>\n",
       "      <td>15.19</td>\n",
       "      <td>15</td>\n",
       "    </tr>\n",
       "    <tr>\n",
       "      <th>330</th>\n",
       "      <td>1.08</td>\n",
       "      <td>15.19</td>\n",
       "      <td>15</td>\n",
       "    </tr>\n",
       "    <tr>\n",
       "      <th>331</th>\n",
       "      <td>1.08</td>\n",
       "      <td>15.19</td>\n",
       "      <td>15</td>\n",
       "    </tr>\n",
       "    <tr>\n",
       "      <th>332</th>\n",
       "      <td>1.08</td>\n",
       "      <td>15.19</td>\n",
       "      <td>15</td>\n",
       "    </tr>\n",
       "    <tr>\n",
       "      <th>333</th>\n",
       "      <td>0.51</td>\n",
       "      <td>15.93</td>\n",
       "      <td>15</td>\n",
       "    </tr>\n",
       "  </tbody>\n",
       "</table>\n",
       "<p>334 rows × 3 columns</p>\n",
       "</div>"
      ],
      "text/plain": [
       "      B-V   Vmag  Cl\n",
       "0   -0.14   7.47  15\n",
       "1   -0.14   7.47  15\n",
       "2   -0.14   7.93  15\n",
       "3   -0.14   7.93  15\n",
       "4   -0.12   8.11  15\n",
       "..    ...    ...  ..\n",
       "329  1.08  15.19  15\n",
       "330  1.08  15.19  15\n",
       "331  1.08  15.19  15\n",
       "332  1.08  15.19  15\n",
       "333  0.51  15.93  15\n",
       "\n",
       "[334 rows x 3 columns]"
      ]
     },
     "execution_count": 368,
     "metadata": {},
     "output_type": "execute_result"
    }
   ],
   "source": [
    "c3"
   ]
  },
  {
   "cell_type": "code",
   "execution_count": 369,
   "metadata": {},
   "outputs": [],
   "source": [
    "titulos={0:\"NGC 2264\",1:\"El Pesebre (NGC 2632)\", 2:\"NGC 6633\"}"
   ]
  },
  {
   "cell_type": "code",
   "execution_count": 370,
   "metadata": {},
   "outputs": [
    {
     "data": {
      "image/png": "[encoded data removed]",
      "text/plain": [
       "<Figure size 432x288 with 1 Axes>"
      ]
     },
     "metadata": {
      "needs_background": "light"
     },
     "output_type": "display_data"
    },
    {
     "data": {
      "image/png": "[encoded data removed]",
      "text/plain": [
       "<Figure size 432x288 with 1 Axes>"
      ]
     },
     "metadata": {
      "needs_background": "light"
     },
     "output_type": "display_data"
    },
    {
     "data": {
      "image/png": "[encoded data removed]",
      "text/plain": [
       "<Figure size 432x288 with 1 Axes>"
      ]
     },
     "metadata": {
      "needs_background": "light"
     },
     "output_type": "display_data"
    }
   ],
   "source": [
    "ind_color_general=[]\n",
    "mag_obs_general=[]\n",
    "for i in range(len(cumulos)):\n",
    "    ind_color= cumulos[i]['B-V']\n",
    "    mag_obs= cumulos[i]['Vmag']\n",
    "    ind_color_general.append(ind_color)\n",
    "    mag_obs_general.append(mag_obs)\n",
    "    plt.figure(i)\n",
    "    plt.scatter(ind_color,mag_obs,marker=\".\")\n",
    "    plt.gca().invert_yaxis()\n",
    "    plt.grid(True)\n",
    "    plt.xlabel(\"B-V\")\n",
    "    plt.ylabel(\"Magnitud Observada\")\n",
    "    plt.title(\"Diagrama CM de: \"+titulos[i])\n",
    "    plt.show()"
   ]
  },
  {
   "cell_type": "code",
   "execution_count": 371,
   "metadata": {},
   "outputs": [
    {
     "data": {
      "image/png": "[encoded data removed]",
      "text/plain": [
       "<Figure size 432x288 with 1 Axes>"
      ]
     },
     "metadata": {
      "needs_background": "light"
     },
     "output_type": "display_data"
    }
   ],
   "source": [
    "for i in range(len(cumulos)):\n",
    "    ind_color= cumulos[i]['B-V']\n",
    "    mag_obs= cumulos[i]['Vmag']\n",
    "    ind_color_general.append(ind_color)\n",
    "    mag_obs_general.append(mag_obs)\n",
    "    plt.scatter(ind_color,mag_obs,marker=\".\",label=titulos[i])\n",
    "    plt.gca().invert_yaxis()\n",
    "    plt.grid(True)\n",
    "    plt.xlabel(\"B-V\")\n",
    "    plt.ylabel(\"Magnitud Observada\")\n",
    "    plt.title(\"Diagrama CM General\")\n",
    "    plt.legend()\n"
   ]
  },
  {
   "cell_type": "markdown",
   "metadata": {},
   "source": [
    "Hertzprung Rusell"
   ]
  },
  {
   "cell_type": "code",
   "execution_count": 372,
   "metadata": {},
   "outputs": [
    {
     "data": {
      "text/plain": [
       "5"
      ]
     },
     "execution_count": 372,
     "metadata": {},
     "output_type": "execute_result"
    }
   ],
   "source": [
    "indices=[0.2,0.4,0.6,0.8,2]\n",
    "def find_positions(lst, A):\n",
    "    positions = []\n",
    "    for i, value in enumerate(lst):\n",
    "        if A - 0.05 <= value <= A + 0.05:\n",
    "            positions.append(i)\n",
    "    return positions\n",
    "len(indices)"
   ]
  },
  {
   "cell_type": "code",
   "execution_count": 373,
   "metadata": {},
   "outputs": [
    {
     "data": {
      "text/plain": [
       "1.7946806902599526"
      ]
     },
     "execution_count": 373,
     "metadata": {},
     "output_type": "execute_result"
    }
   ],
   "source": [
    "#0.2\n",
    "posi0= find_positions(color,indices[0])\n",
    "abs0=[]\n",
    "for i in range(len(posi0)):\n",
    "    abs0.append(mabs[posi0[i]])\n",
    "abs0 = [x for x in abs0 if x <= 4]\n",
    "mag_abs_0=sum(abs0)/len(abs0)\n",
    "mag_abs_0"
   ]
  },
  {
   "cell_type": "code",
   "execution_count": 374,
   "metadata": {},
   "outputs": [
    {
     "data": {
      "text/plain": [
       "2.9154077599847943"
      ]
     },
     "execution_count": 374,
     "metadata": {},
     "output_type": "execute_result"
    }
   ],
   "source": [
    "#0.4\n",
    "posi05= find_positions(color,indices[1])\n",
    "abs05=[]\n",
    "for i in range(len(posi05)):\n",
    "    abs05.append(mabs[posi05[i]])\n",
    "abs05 = [x for x in abs05 if x <= 4]\n",
    "mag_abs_05=sum(abs05)/len(abs05)\n",
    "mag_abs_05"
   ]
  },
  {
   "cell_type": "code",
   "execution_count": 375,
   "metadata": {},
   "outputs": [
    {
     "data": {
      "text/plain": [
       "4.395112294081857"
      ]
     },
     "execution_count": 375,
     "metadata": {},
     "output_type": "execute_result"
    }
   ],
   "source": [
    "#0.6\n",
    "posi1= find_positions(color,indices[2])\n",
    "abs1=[]\n",
    "for i in range(len(posi1)):\n",
    "    abs1.append(mabs[posi1[i]])\n",
    "abs1 = [x for x in abs1 if x <= 6]\n",
    "mag_abs_1=sum(abs1)/len(abs1)\n",
    "mag_abs_1"
   ]
  },
  {
   "cell_type": "code",
   "execution_count": 376,
   "metadata": {},
   "outputs": [
    {
     "data": {
      "text/plain": [
       "5.5687236496626"
      ]
     },
     "execution_count": 376,
     "metadata": {},
     "output_type": "execute_result"
    }
   ],
   "source": [
    "#0.8\n",
    "posi15= find_positions(color,indices[3])\n",
    "abs15=[]\n",
    "for i in range(len(posi15)):\n",
    "    abs15.append(mabs[posi15[i]])\n",
    "abs15 = [x for x in abs15 if x <= 8]\n",
    "mag_abs_15=sum(abs15)/len(abs15)\n",
    "mag_abs_15"
   ]
  },
  {
   "cell_type": "markdown",
   "metadata": {},
   "source": [
    "NGC 2264"
   ]
  },
  {
   "cell_type": "code",
   "execution_count": 377,
   "metadata": {},
   "outputs": [
    {
     "data": {
      "text/plain": [
       "10.163333333333332"
      ]
     },
     "execution_count": 377,
     "metadata": {},
     "output_type": "execute_result"
    }
   ],
   "source": [
    "#0.2\n",
    "posi0= find_positions(ind_color_general[0],indices[0])\n",
    "abs0=[]\n",
    "for i in range(len(posi0)):\n",
    "    abs0.append(mag_obs_general[0][posi0[i]])\n",
    "abs0 = [x for x in abs0 if x <= 12]\n",
    "mag1_obs_0=sum(abs0)/len(abs0)\n",
    "mag1_obs_0"
   ]
  },
  {
   "cell_type": "code",
   "execution_count": 378,
   "metadata": {},
   "outputs": [
    {
     "data": {
      "text/plain": [
       "11.34"
      ]
     },
     "execution_count": 378,
     "metadata": {},
     "output_type": "execute_result"
    }
   ],
   "source": [
    "#0.4\n",
    "posi05= find_positions(ind_color_general[0],indices[1])\n",
    "abs05=[]\n",
    "for i in range(len(posi05)):\n",
    "    abs05.append(mag_obs_general[0][posi05[i]])\n",
    "abs05 = [x for x in abs05 if x <= 13]\n",
    "mag1_obs_05=sum(abs05)/len(abs05)\n",
    "mag1_obs_05"
   ]
  },
  {
   "cell_type": "code",
   "execution_count": 379,
   "metadata": {},
   "outputs": [
    {
     "data": {
      "text/plain": [
       "12.444666666666668"
      ]
     },
     "execution_count": 379,
     "metadata": {},
     "output_type": "execute_result"
    }
   ],
   "source": [
    "#0.6\n",
    "posi1= find_positions(ind_color_general[0],indices[2])\n",
    "abs1=[]\n",
    "for i in range(len(posi1)):\n",
    "    abs1.append(mag_obs_general[0][posi1[i]])\n",
    "abs1 = [x for x in abs1 if x <= 14]\n",
    "mag1_obs_1=sum(abs1)/len(abs1)\n",
    "mag1_obs_1"
   ]
  },
  {
   "cell_type": "code",
   "execution_count": 380,
   "metadata": {},
   "outputs": [
    {
     "data": {
      "text/plain": [
       "13.434800000000003"
      ]
     },
     "execution_count": 380,
     "metadata": {},
     "output_type": "execute_result"
    }
   ],
   "source": [
    "#0.8\n",
    "posi15= find_positions(ind_color_general[0],indices[3])\n",
    "abs15=[]\n",
    "for i in range(len(posi15)):\n",
    "    abs15.append(mag_obs_general[0][posi15[i]])\n",
    "abs15 = [x for x in abs15 if x <= 15]\n",
    "mag1_obs_15=sum(abs15)/len(abs15)\n",
    "mag1_obs_15"
   ]
  },
  {
   "cell_type": "markdown",
   "metadata": {},
   "source": [
    "El pesebre"
   ]
  },
  {
   "cell_type": "code",
   "execution_count": 381,
   "metadata": {},
   "outputs": [
    {
     "data": {
      "text/plain": [
       "7.771666666666667"
      ]
     },
     "execution_count": 381,
     "metadata": {},
     "output_type": "execute_result"
    }
   ],
   "source": [
    "#0.2\n",
    "posi0= find_positions(ind_color_general[1],indices[0])\n",
    "abs0=[]\n",
    "for i in range(len(posi0)):\n",
    "    abs0.append(mag_obs_general[1][posi0[i]])\n",
    "abs0 = [x for x in abs0 if x >= 7]\n",
    "mag2_obs_0=sum(abs0)/len(abs0)\n",
    "mag2_obs_0"
   ]
  },
  {
   "cell_type": "code",
   "execution_count": 382,
   "metadata": {},
   "outputs": [
    {
     "data": {
      "text/plain": [
       "9.471"
      ]
     },
     "execution_count": 382,
     "metadata": {},
     "output_type": "execute_result"
    }
   ],
   "source": [
    "#0.4\n",
    "posi05= find_positions(ind_color_general[1],indices[1])\n",
    "abs05=[]\n",
    "for i in range(len(posi05)):\n",
    "    abs05.append(mag_obs_general[1][posi05[i]])\n",
    "abs05 = [x for x in abs05 if x <= 11]\n",
    "mag2_obs_05=sum(abs05)/len(abs05)\n",
    "mag2_obs_05"
   ]
  },
  {
   "cell_type": "code",
   "execution_count": 383,
   "metadata": {},
   "outputs": [
    {
     "data": {
      "text/plain": [
       "10.506666666666666"
      ]
     },
     "execution_count": 383,
     "metadata": {},
     "output_type": "execute_result"
    }
   ],
   "source": [
    "#0.6\n",
    "posi1= find_positions(ind_color_general[1],indices[2])\n",
    "abs1=[]\n",
    "for i in range(len(posi1)):\n",
    "    abs1.append(mag_obs_general[1][posi1[i]])\n",
    "abs1 = [x for x in abs1 if x <= 13]\n",
    "mag2_obs_1=sum(abs1)/len(abs1)\n",
    "mag2_obs_1"
   ]
  },
  {
   "cell_type": "code",
   "execution_count": 384,
   "metadata": {},
   "outputs": [
    {
     "data": {
      "text/plain": [
       "11.695"
      ]
     },
     "execution_count": 384,
     "metadata": {},
     "output_type": "execute_result"
    }
   ],
   "source": [
    "#0.8\n",
    "posi15= find_positions(ind_color_general[1],indices[3])\n",
    "abs15=[]\n",
    "for i in range(len(posi15)):\n",
    "    abs15.append(mag_obs_general[1][posi15[i]])\n",
    "abs15 = [x for x in abs15 if x <= 13]\n",
    "mag2_obs_15=sum(abs15)/len(abs15)\n",
    "mag2_obs_15"
   ]
  },
  {
   "cell_type": "markdown",
   "metadata": {},
   "source": [
    "NGC 6633"
   ]
  },
  {
   "cell_type": "code",
   "execution_count": 385,
   "metadata": {},
   "outputs": [
    {
     "data": {
      "text/plain": [
       "9.02142857142857"
      ]
     },
     "execution_count": 385,
     "metadata": {},
     "output_type": "execute_result"
    }
   ],
   "source": [
    "#0.2\n",
    "posi0= find_positions(ind_color_general[2],indices[0])\n",
    "abs0=[]\n",
    "for i in range(len(posi0)):\n",
    "    abs0.append(mag_obs_general[2][posi0[i]])\n",
    "abs0 = [x for x in abs0 if x <= 10]\n",
    "mag3_obs_0=sum(abs0)/len(abs0)\n",
    "mag3_obs_0"
   ]
  },
  {
   "cell_type": "code",
   "execution_count": 386,
   "metadata": {},
   "outputs": [
    {
     "data": {
      "text/plain": [
       "10.364166666666668"
      ]
     },
     "execution_count": 386,
     "metadata": {},
     "output_type": "execute_result"
    }
   ],
   "source": [
    "#0.4\n",
    "posi05= find_positions(ind_color_general[2],indices[1])\n",
    "abs05=[]\n",
    "for i in range(len(posi05)):\n",
    "    abs05.append(mag_obs_general[2][posi05[i]])\n",
    "abs05 = [x for x in abs05 if x <= 11]\n",
    "mag3_obs_05=sum(abs05)/len(abs05)\n",
    "mag3_obs_05"
   ]
  },
  {
   "cell_type": "code",
   "execution_count": 387,
   "metadata": {},
   "outputs": [
    {
     "data": {
      "text/plain": [
       "11.619333333333337"
      ]
     },
     "execution_count": 387,
     "metadata": {},
     "output_type": "execute_result"
    }
   ],
   "source": [
    "#0.6\n",
    "posi1= find_positions(ind_color_general[2],indices[2])\n",
    "abs1=[]\n",
    "for i in range(len(posi1)):\n",
    "    abs1.append(mag_obs_general[2][posi1[i]])\n",
    "abs1 = [x for x in abs1 if x <= 13]\n",
    "mag3_obs_1=sum(abs1)/len(abs1)\n",
    "mag3_obs_1"
   ]
  },
  {
   "cell_type": "code",
   "execution_count": 388,
   "metadata": {},
   "outputs": [
    {
     "data": {
      "text/plain": [
       "12.531250000000002"
      ]
     },
     "execution_count": 388,
     "metadata": {},
     "output_type": "execute_result"
    }
   ],
   "source": [
    "#0.8\n",
    "posi15= find_positions(ind_color_general[2],indices[3])\n",
    "abs15=[]\n",
    "for i in range(len(posi15)):\n",
    "    abs15.append(mag_obs_general[2][posi15[i]])\n",
    "abs15 = [x for x in abs15 if x <= 14]\n",
    "mag3_obs_15=sum(abs15)/len(abs15)\n",
    "mag3_obs_15"
   ]
  },
  {
   "cell_type": "markdown",
   "metadata": {},
   "source": [
    "Calculo Distancias"
   ]
  },
  {
   "cell_type": "code",
   "execution_count": 389,
   "metadata": {},
   "outputs": [],
   "source": [
    "cero_2=[mag1_obs_0,mag2_obs_0,mag3_obs_0]\n",
    "cero_4=[mag1_obs_05,mag2_obs_05,mag3_obs_05]\n",
    "cero_6=[mag1_obs_1,mag2_obs_1,mag3_obs_1]\n",
    "cero_8=[mag1_obs_15,mag2_obs_15,mag3_obs_15]"
   ]
  },
  {
   "cell_type": "code",
   "execution_count": 399,
   "metadata": {},
   "outputs": [
    {
     "data": {
      "text/plain": [
       "([8.36865264307338, 8.424592240015205, 8.049554372584812, 7.866076350337403],\n",
       " [5.976985976406715, 6.555592240015206, 6.111554372584809, 6.126276350337401],\n",
       " [7.226747881168618, 7.448758906681873, 7.22422103925148, 6.962526350337402])"
      ]
     },
     "execution_count": 399,
     "metadata": {},
     "output_type": "execute_result"
    }
   ],
   "source": [
    "Absolutas=[mag_abs_0,mag_abs_05,mag_abs_1,mag_abs_15]\n",
    "D1=[]\n",
    "D2=[]\n",
    "D3=[]\n",
    "D1.append(cero_2[0]-Absolutas[0])\n",
    "D1.append(cero_4[0]-Absolutas[1])\n",
    "D1.append(cero_6[0]-Absolutas[2])\n",
    "D1.append(cero_8[0]-Absolutas[3])\n",
    "\n",
    "D2.append(cero_2[1]-Absolutas[0])\n",
    "D2.append(cero_4[1]-Absolutas[1])\n",
    "D2.append(cero_6[1]-Absolutas[2])\n",
    "D2.append(cero_8[1]-Absolutas[3])\n",
    "\n",
    "D3.append(cero_2[2]-Absolutas[0])\n",
    "D3.append(cero_4[2]-Absolutas[1])\n",
    "D3.append(cero_6[2]-Absolutas[2])\n",
    "D3.append(cero_8[2]-Absolutas[3])\n",
    "\n",
    "D1,D2,D3"
   ]
  },
  {
   "cell_type": "code",
   "execution_count": 400,
   "metadata": {},
   "outputs": [
    {
     "data": {
      "text/plain": [
       "([471.7702260650328, 484.0814580329761, 407.29668420515, 374.2960724950644],\n",
       " [156.8184638384766,\n",
       "  204.7002853209035,\n",
       "  166.84410804054102,\n",
       "  167.97910773734918],\n",
       " [278.8364701245682, 308.8529695510002, 278.512189744323, 246.89100644019896])"
      ]
     },
     "execution_count": 400,
     "metadata": {},
     "output_type": "execute_result"
    }
   ],
   "source": [
    "for i in range(len(D1)): D1[i]=10*(10**(D1[i]/5))\n",
    "for i in range(len(D2)): D2[i]=10*(10**(D2[i]/5))\n",
    "for i in range(len(D3)): D3[i]=10*(10**(D3[i]/5))\n",
    "D1,D2,D3"
   ]
  },
  {
   "cell_type": "code",
   "execution_count": 403,
   "metadata": {},
   "outputs": [
    {
     "data": {
      "text/plain": [
       "[434.3611101995558, 174.08549123431757, 278.2731589650226]"
      ]
     },
     "execution_count": 403,
     "metadata": {},
     "output_type": "execute_result"
    }
   ],
   "source": [
    "Ds=[D1,D2,D3]\n",
    "prom=[]\n",
    "for i in range(len(Ds)):\n",
    "    p=sum(Ds[i])/len(Ds[i])\n",
    "    prom.append(p)\n",
    "prom\n"
   ]
  }
 ],
 "metadata": {
  "kernelspec": {
   "display_name": "base",
   "language": "python",
   "name": "python3"
  },
  "language_info": {
   "codemirror_mode": {
    "name": "ipython",
    "version": 3
   },
   "file_extension": ".py",
   "mimetype": "text/x-python",
   "name": "python",
   "nbconvert_exporter": "python",
   "pygments_lexer": "ipython3",
   "version": "3.9.7"
  }
 },
 "nbformat": 4,
 "nbformat_minor": 2
}
